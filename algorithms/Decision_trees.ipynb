{
 "metadata": {
  "language_info": {
   "codemirror_mode": {
    "name": "ipython",
    "version": 3
   },
   "file_extension": ".py",
   "mimetype": "text/x-python",
   "name": "python",
   "nbconvert_exporter": "python",
   "pygments_lexer": "ipython3",
   "version": 3
  },
  "orig_nbformat": 2
 },
 "nbformat": 4,
 "nbformat_minor": 2,
 "cells": [
  {
   "cell_type": "code",
   "execution_count": null,
   "metadata": {},
   "outputs": [],
   "source": [
    "# Decision Trees\n",
    "\n",
    "from sklearn import tree\n",
    "from sklearn.model_selection import train_test_split\n",
    "\n",
    "x_train, x_test, y_train, y_test = train_test_split(df[x-variables],df[y-variable], test_size=0.2)\n",
    "\n",
    "model = tree.DecisionTreeClassifier(criterion='gini') # for classification, the parameter 'criterion' can be either 'gini' or 'entropy'. By default it is 'gini')\n",
    "\n",
    "model = tree.DecisionTreeRegressor() # for regression problems\n",
    "\n",
    "# Training the model and checking the score\n",
    "model.fit(x_train,y_train)\n",
    "model.score(x_train,y_train)\n",
    "\n",
    "# Predict output\n",
    "pred = model.predict(x_test)"
   ]
  }
 ]
}