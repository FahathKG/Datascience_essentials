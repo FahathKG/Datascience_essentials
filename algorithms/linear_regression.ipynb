{
 "metadata": {
  "language_info": {
   "codemirror_mode": {
    "name": "ipython",
    "version": 3
   },
   "file_extension": ".py",
   "mimetype": "text/x-python",
   "name": "python",
   "nbconvert_exporter": "python",
   "pygments_lexer": "ipython3",
   "version": 3
  },
  "orig_nbformat": 2
 },
 "nbformat": 4,
 "nbformat_minor": 2,
 "cells": [
  {
   "cell_type": "code",
   "execution_count": null,
   "metadata": {},
   "outputs": [],
   "source": [
    "# Linear Regression\n",
    "\n",
    "# import linear regression from sklearn\n",
    "\n",
    "from sklearn.linear_model import LinearRegression\n",
    "lreg = LinearRegression()\n",
    "\n",
    "from sklearn.model_selection import train_test_split\n",
    "x_train, x_cv, y_train, y_cv = train_test_split(df[x-variables],dfp[y-variable], test_size=0.2)\n",
    "\n",
    "# training a linear regression model on training data\n",
    "lreg.fit(x_train,y_train)\n",
    "\n",
    "# predicting on cv\n",
    "pred_cv = lreg.predict(x_cv)\n",
    "\n",
    "# calculating mse\n",
    "mse = np.mean((pred_cv-y_cv)**2)\n",
    "\n",
    "# evaluation using R-Square\n",
    "lreg.score(x_cv,y_cv)"
   ]
  }
 ]
}